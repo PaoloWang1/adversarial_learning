{
 "cells": [
  {
   "cell_type": "markdown",
   "metadata": {
    "id": "DJvw4xnjb9ED"
   },
   "source": [
    "## **Fooling models with adversarial examples**\n",
    "\n",
    "In this homework assignment, you will be crafting an adversarial attack to fool a simple machine learning model. The code for training the model is provided, so you will only be writing the code for a FGSM/PGD attack. After creating your attack, you will use it to measure the model prediction accuracy under several different attack parameters.\n",
    "\n",
    "This assignment can be completed on Google Colab. Since there is some model training done, the free GPU can help speed up the process. To use one, you can click the down arrow in the top right of the page and select the \"Change runtime type\" option. From here, the T4 GPU can be selected. This is optional to do given the simplicity of the model, since the overall training will not take very long on the\n",
    " non-GPU version.\n",
    "\n",
    "<br>\n",
    "\n",
    "The PGD attack is formulated as:\n",
    "\n",
    "$x_{adv}^{t+1}=\\mathcal{P}(x_{adv}^{t}+\\alpha*sign[∇_{x_{adv}^{t}}\\mathcal{L(\\theta,x_{adv}^{t},y)}])   \\text{ where the attack is constrained by } ||x_{adv}-x|| \\leq ɛ$.\n",
    "\n",
    "<br>\n",
    "\n",
    "The PGD attack is an iterative, multi-step attack. The attack is described below.\n",
    "\n",
    "- For the initialization, $X_{adv}^0=x$ will be used.\n",
    "\n",
    "- $\\mathcal{L}(\\theta,x_{adv}^t,y)$ refers to the loss of the model on the adversarial example $x_{adv}^{t}$. The attack will use the gradient of $x_{adv}^{t}$ with respect to this loss $∇_{x_{adv}^{t}}\\mathcal{L(\\theta,x_{adv}^{t},y)}$ to update the adversarial example.\n",
    "\n",
    "- For each step in the attack, the $sign$ of the gradient will be used with a step of size $\\alpha$ for the update. The step size $\\alpha$ will vary based on the total number of steps used by the attack.\n",
    "\n",
    "- After each step, a projection operation $\\mathcal{P}$ is applied to ensure that each pixel of $x_{adv}^{t}$ is no more than $\\varepsilon$ away from the original image $x$ (in practice, this can be done by clipping the image).\n",
    "\n",
    "- The adversarial example will also be constrained to be within the bounds of a natural image [0, 1] (also through clipping).\n",
    "\n",
    "<br>\n",
    "\n",
    "The code below creates a simple CNN model and trains it on CIFAR-10 for 20 epochs. The code can be run without any modification."
   ]
  },
  {
   "cell_type": "code",
   "execution_count": 2,
   "metadata": {
    "id": "xgWfGnoVFzXo"
   },
   "outputs": [
    {
     "data": {
      "image/png": "[encoded data removed]",
      "text/plain": [
       "<Figure size 640x480 with 1 Axes>"
      ]
     },
     "metadata": {},
     "output_type": "display_data"
    },
    {
     "name": "stdout",
     "output_type": "stream",
     "text": [
      "Using mps device\n"
     ]
    },
    {
     "data": {
      "application/vnd.jupyter.widget-view+json": {
       "model_id": "8f49a5097bd4477b898581f23718259c",
       "version_major": 2,
       "version_minor": 0
      },
      "text/plain": [
       "  0%|                                                                                                         …"
      ]
     },
     "metadata": {},
     "output_type": "display_data"
    },
    {
     "data": {
      "application/vnd.jupyter.widget-view+json": {
       "model_id": "245a9af6ffbd47e596e676255fccb307",
       "version_major": 2,
       "version_minor": 0
      },
      "text/plain": [
       "  0%|                                                                                                         …"
      ]
     },
     "metadata": {},
     "output_type": "display_data"
    },
    {
     "data": {
      "application/vnd.jupyter.widget-view+json": {
       "model_id": "5b7a9603125341d493198a7373949eb0",
       "version_major": 2,
       "version_minor": 0
      },
      "text/plain": [
       "  0%|                                                                                                         …"
      ]
     },
     "metadata": {},
     "output_type": "display_data"
    },
    {
     "data": {
      "application/vnd.jupyter.widget-view+json": {
       "model_id": "331d459c45ee42a88caf61f253171fc4",
       "version_major": 2,
       "version_minor": 0
      },
      "text/plain": [
       "  0%|                                                                                                         …"
      ]
     },
     "metadata": {},
     "output_type": "display_data"
    },
    {
     "data": {
      "application/vnd.jupyter.widget-view+json": {
       "model_id": "98589a01272c48139d8a07bcec18511b",
       "version_major": 2,
       "version_minor": 0
      },
      "text/plain": [
       "  0%|                                                                                                         …"
      ]
     },
     "metadata": {},
     "output_type": "display_data"
    },
    {
     "data": {
      "application/vnd.jupyter.widget-view+json": {
       "model_id": "599a7ad52e384a13a56bbd9ecb8f6d0c",
       "version_major": 2,
       "version_minor": 0
      },
      "text/plain": [
       "  0%|                                                                                                         …"
      ]
     },
     "metadata": {},
     "output_type": "display_data"
    },
    {
     "data": {
      "application/vnd.jupyter.widget-view+json": {
       "model_id": "d65dc4fddbbd47168db7a4210cd306c0",
       "version_major": 2,
       "version_minor": 0
      },
      "text/plain": [
       "  0%|                                                                                                         …"
      ]
     },
     "metadata": {},
     "output_type": "display_data"
    },
    {
     "data": {
      "application/vnd.jupyter.widget-view+json": {
       "model_id": "ebdf99182d36447da355a2aa26428bd5",
       "version_major": 2,
       "version_minor": 0
      },
      "text/plain": [
       "  0%|                                                                                                         …"
      ]
     },
     "metadata": {},
     "output_type": "display_data"
    },
    {
     "data": {
      "application/vnd.jupyter.widget-view+json": {
       "model_id": "97b3597f50b240dba4c898d430622ce6",
       "version_major": 2,
       "version_minor": 0
      },
      "text/plain": [
       "  0%|                                                                                                         …"
      ]
     },
     "metadata": {},
     "output_type": "display_data"
    },
    {
     "data": {
      "application/vnd.jupyter.widget-view+json": {
       "model_id": "a11a5b9390334be3898dbb925e11ffce",
       "version_major": 2,
       "version_minor": 0
      },
      "text/plain": [
       "  0%|                                                                                                         …"
      ]
     },
     "metadata": {},
     "output_type": "display_data"
    },
    {
     "data": {
      "application/vnd.jupyter.widget-view+json": {
       "model_id": "d9480073bd2b4adb9173074a5255e33b",
       "version_major": 2,
       "version_minor": 0
      },
      "text/plain": [
       "  0%|                                                                                                         …"
      ]
     },
     "metadata": {},
     "output_type": "display_data"
    },
    {
     "data": {
      "application/vnd.jupyter.widget-view+json": {
       "model_id": "4854d759d8bb4ce998cf541a5319b09b",
       "version_major": 2,
       "version_minor": 0
      },
      "text/plain": [
       "  0%|                                                                                                         …"
      ]
     },
     "metadata": {},
     "output_type": "display_data"
    },
    {
     "data": {
      "application/vnd.jupyter.widget-view+json": {
       "model_id": "18978cb56fdb496eb5b4397a5dcf9053",
       "version_major": 2,
       "version_minor": 0
      },
      "text/plain": [
       "  0%|                                                                                                         …"
      ]
     },
     "metadata": {},
     "output_type": "display_data"
    },
    {
     "data": {
      "application/vnd.jupyter.widget-view+json": {
       "model_id": "f70c326c1dac4521b613a08645ebb640",
       "version_major": 2,
       "version_minor": 0
      },
      "text/plain": [
       "  0%|                                                                                                         …"
      ]
     },
     "metadata": {},
     "output_type": "display_data"
    },
    {
     "data": {
      "application/vnd.jupyter.widget-view+json": {
       "model_id": "2a03f302446d4fde8cf901e731d6ea16",
       "version_major": 2,
       "version_minor": 0
      },
      "text/plain": [
       "  0%|                                                                                                         …"
      ]
     },
     "metadata": {},
     "output_type": "display_data"
    },
    {
     "data": {
      "application/vnd.jupyter.widget-view+json": {
       "model_id": "66e888989c8b4257bc754e89bb61fcf9",
       "version_major": 2,
       "version_minor": 0
      },
      "text/plain": [
       "  0%|                                                                                                         …"
      ]
     },
     "metadata": {},
     "output_type": "display_data"
    },
    {
     "data": {
      "application/vnd.jupyter.widget-view+json": {
       "model_id": "d9407e91d45c4f37a53b13eaa81dff1d",
       "version_major": 2,
       "version_minor": 0
      },
      "text/plain": [
       "  0%|                                                                                                         …"
      ]
     },
     "metadata": {},
     "output_type": "display_data"
    },
    {
     "data": {
      "application/vnd.jupyter.widget-view+json": {
       "model_id": "39d68407171a4274a595fb400c00c5ed",
       "version_major": 2,
       "version_minor": 0
      },
      "text/plain": [
       "  0%|                                                                                                         …"
      ]
     },
     "metadata": {},
     "output_type": "display_data"
    },
    {
     "data": {
      "application/vnd.jupyter.widget-view+json": {
       "model_id": "903be98d3b5d481984d3fb06defaf0ae",
       "version_major": 2,
       "version_minor": 0
      },
      "text/plain": [
       "  0%|                                                                                                         …"
      ]
     },
     "metadata": {},
     "output_type": "display_data"
    },
    {
     "data": {
      "application/vnd.jupyter.widget-view+json": {
       "model_id": "80fb25ad7b694c039ad1cdf2cee4fee1",
       "version_major": 2,
       "version_minor": 0
      },
      "text/plain": [
       "  0%|                                                                                                         …"
      ]
     },
     "metadata": {},
     "output_type": "display_data"
    },
    {
     "data": {
      "application/vnd.jupyter.widget-view+json": {
       "model_id": "9a8929f080b14037b771768e8780b721",
       "version_major": 2,
       "version_minor": 0
      },
      "text/plain": [
       "  0%|                                                                                                         …"
      ]
     },
     "metadata": {},
     "output_type": "display_data"
    },
    {
     "data": {
      "application/vnd.jupyter.widget-view+json": {
       "model_id": "5e9e03572ff24d718d54971571e108f1",
       "version_major": 2,
       "version_minor": 0
      },
      "text/plain": [
       "  0%|                                                                                                         …"
      ]
     },
     "metadata": {},
     "output_type": "display_data"
    },
    {
     "data": {
      "application/vnd.jupyter.widget-view+json": {
       "model_id": "7d49ed6df02948888441bdcb848a8b4d",
       "version_major": 2,
       "version_minor": 0
      },
      "text/plain": [
       "  0%|                                                                                                         …"
      ]
     },
     "metadata": {},
     "output_type": "display_data"
    },
    {
     "data": {
      "application/vnd.jupyter.widget-view+json": {
       "model_id": "0b70c7c0fc54455b94617f1ad839643d",
       "version_major": 2,
       "version_minor": 0
      },
      "text/plain": [
       "  0%|                                                                                                         …"
      ]
     },
     "metadata": {},
     "output_type": "display_data"
    },
    {
     "data": {
      "application/vnd.jupyter.widget-view+json": {
       "model_id": "59841e632cc6434c99a869baace99c2e",
       "version_major": 2,
       "version_minor": 0
      },
      "text/plain": [
       "  0%|                                                                                                         …"
      ]
     },
     "metadata": {},
     "output_type": "display_data"
    },
    {
     "data": {
      "application/vnd.jupyter.widget-view+json": {
       "model_id": "14c3ff1ec480448c9c6c8aab36f0caff",
       "version_major": 2,
       "version_minor": 0
      },
      "text/plain": [
       "  0%|                                                                                                         …"
      ]
     },
     "metadata": {},
     "output_type": "display_data"
    },
    {
     "data": {
      "application/vnd.jupyter.widget-view+json": {
       "model_id": "0d9f6a6091864c0c943609245a177faa",
       "version_major": 2,
       "version_minor": 0
      },
      "text/plain": [
       "  0%|                                                                                                         …"
      ]
     },
     "metadata": {},
     "output_type": "display_data"
    },
    {
     "data": {
      "application/vnd.jupyter.widget-view+json": {
       "model_id": "261f7203be334e909180e78f4fafa37f",
       "version_major": 2,
       "version_minor": 0
      },
      "text/plain": [
       "  0%|                                                                                                         …"
      ]
     },
     "metadata": {},
     "output_type": "display_data"
    },
    {
     "data": {
      "application/vnd.jupyter.widget-view+json": {
       "model_id": "9669eeeb29894f0e90b75abcf2d5588e",
       "version_major": 2,
       "version_minor": 0
      },
      "text/plain": [
       "  0%|                                                                                                         …"
      ]
     },
     "metadata": {},
     "output_type": "display_data"
    },
    {
     "data": {
      "application/vnd.jupyter.widget-view+json": {
       "model_id": "a02a4a7456214172ab0f879d1abeabb2",
       "version_major": 2,
       "version_minor": 0
      },
      "text/plain": [
       "  0%|                                                                                                         …"
      ]
     },
     "metadata": {},
     "output_type": "display_data"
    },
    {
     "data": {
      "application/vnd.jupyter.widget-view+json": {
       "model_id": "2a8ccc410a4c49ca9847fd939412ce8a",
       "version_major": 2,
       "version_minor": 0
      },
      "text/plain": [
       "  0%|                                                                                                         …"
      ]
     },
     "metadata": {},
     "output_type": "display_data"
    },
    {
     "data": {
      "application/vnd.jupyter.widget-view+json": {
       "model_id": "078ed7f4ac2744d3afaef2421e896524",
       "version_major": 2,
       "version_minor": 0
      },
      "text/plain": [
       "  0%|                                                                                                         …"
      ]
     },
     "metadata": {},
     "output_type": "display_data"
    },
    {
     "data": {
      "application/vnd.jupyter.widget-view+json": {
       "model_id": "bbaeca4262ac4fbf9255265364eee61e",
       "version_major": 2,
       "version_minor": 0
      },
      "text/plain": [
       "  0%|                                                                                                         …"
      ]
     },
     "metadata": {},
     "output_type": "display_data"
    },
    {
     "data": {
      "application/vnd.jupyter.widget-view+json": {
       "model_id": "14cc320cc8c944e88edc90b6441b830d",
       "version_major": 2,
       "version_minor": 0
      },
      "text/plain": [
       "  0%|                                                                                                         …"
      ]
     },
     "metadata": {},
     "output_type": "display_data"
    },
    {
     "data": {
      "application/vnd.jupyter.widget-view+json": {
       "model_id": "01a99f3572724911a0df39836992690f",
       "version_major": 2,
       "version_minor": 0
      },
      "text/plain": [
       "  0%|                                                                                                         …"
      ]
     },
     "metadata": {},
     "output_type": "display_data"
    },
    {
     "data": {
      "application/vnd.jupyter.widget-view+json": {
       "model_id": "c644d263af764d8aab35d55444f1f56f",
       "version_major": 2,
       "version_minor": 0
      },
      "text/plain": [
       "  0%|                                                                                                         …"
      ]
     },
     "metadata": {},
     "output_type": "display_data"
    },
    {
     "data": {
      "application/vnd.jupyter.widget-view+json": {
       "model_id": "c798fbb3aa6640828795c496cbd3c025",
       "version_major": 2,
       "version_minor": 0
      },
      "text/plain": [
       "  0%|                                                                                                         …"
      ]
     },
     "metadata": {},
     "output_type": "display_data"
    },
    {
     "data": {
      "application/vnd.jupyter.widget-view+json": {
       "model_id": "30fe3a3013ff4d2e89840b6ab477f6dc",
       "version_major": 2,
       "version_minor": 0
      },
      "text/plain": [
       "  0%|                                                                                                         …"
      ]
     },
     "metadata": {},
     "output_type": "display_data"
    },
    {
     "data": {
      "application/vnd.jupyter.widget-view+json": {
       "model_id": "3493149b915f4d479292fd215f77f513",
       "version_major": 2,
       "version_minor": 0
      },
      "text/plain": [
       "  0%|                                                                                                         …"
      ]
     },
     "metadata": {},
     "output_type": "display_data"
    },
    {
     "data": {
      "application/vnd.jupyter.widget-view+json": {
       "model_id": "4df79b72476f43458b2ff7b8968cb61f",
       "version_major": 2,
       "version_minor": 0
      },
      "text/plain": [
       "  0%|                                                                                                         …"
      ]
     },
     "metadata": {},
     "output_type": "display_data"
    }
   ],
   "source": [
    "import torch\n",
    "import torch.nn as nn\n",
    "import torch.nn.functional as F\n",
    "from torch.utils.data import DataLoader\n",
    "import torch.optim as optim\n",
    "import torchvision\n",
    "from torchvision import transforms\n",
    "\n",
    "import matplotlib.pyplot as plt\n",
    "import numpy as np\n",
    "\n",
    "class CNN(nn.Module):\n",
    "  def __init__(self, num_classes=10):\n",
    "    super(CNN, self).__init__()\n",
    "    self.conv1 = nn.Conv2d(3, 16, kernel_size=3, padding=1)\n",
    "    self.conv2 = nn.Conv2d(16, 32, kernel_size=3, padding=1)\n",
    "    self.conv3 = nn.Conv2d(32, 64, kernel_size=3, padding=1)\n",
    "    self.fc1 = nn.Linear(64*4*4, 256)\n",
    "    self.fc2 = nn.Linear(256, num_classes)\n",
    "    self.pool = nn.MaxPool2d(2,2)\n",
    "\n",
    "  def forward(self, x):\n",
    "    x = self.pool(F.relu(self.conv1(x)))\n",
    "    x = self.pool(F.relu(self.conv2(x)))\n",
    "    x = self.pool(F.relu(self.conv3(x)))\n",
    "    x = torch.flatten(x, 1)\n",
    "    x = F.relu(self.fc1(x))\n",
    "    x = self.fc2(x)\n",
    "    return(x)\n",
    "\n",
    "transform = transforms.Compose([\n",
    "  transforms.ToTensor()\n",
    "])\n",
    "\n",
    "trainset = torchvision.datasets.CIFAR10(root='data', train=True, transform=transform, download=True)\n",
    "testset  = torchvision.datasets.CIFAR10(root='data', train=False, transform=transform)\n",
    "\n",
    "trainloader = DataLoader(trainset, batch_size=256, shuffle=True, num_workers=1, pin_memory=True)\n",
    "testloader  = DataLoader(testset, batch_size=1000, shuffle=False, num_workers=1, pin_memory=True)\n",
    "\n",
    "plt.imshow(trainset[0][0].permute(1,2,0))\n",
    "plt.title('Training image')\n",
    "plt.show()\n",
    "\n",
    "\n",
    "device = torch.accelerator.current_accelerator().type if torch.accelerator.is_available() else \"cpu\"\n",
    "print(f\"Using {device} device\")\n",
    "\n",
    "model = CNN(num_classes=10).to(device)\n",
    "loss_fn = nn.CrossEntropyLoss()\n",
    "optimizer = optim.SGD(model.parameters(), lr=0.01, momentum=0.9)\n",
    "\n",
    "from tqdm.notebook import tqdm\n",
    "\n",
    "epochs = 20\n",
    "\n",
    "for epoch in range(epochs):  # loop over the dataset multiple times\n",
    "\n",
    "  total_correct_train, total_samples, total_loss, total_batches = 0, 0, 0, 0\n",
    "\n",
    "  for X, Y in (pbar := tqdm(trainloader, ncols=1000)):\n",
    "    X, Y = X.to(device), Y.to(device)\n",
    "\n",
    "    optimizer.zero_grad()\n",
    "    pred = model(X)\n",
    "    loss = loss_fn(pred, Y)\n",
    "\n",
    "    total_loss += loss.item()\n",
    "    total_batches += 1\n",
    "    total_correct_train += (pred.argmax(dim=1) == Y).sum()\n",
    "    total_samples += X.shape[0]\n",
    "\n",
    "    average_loss = total_loss/total_batches\n",
    "    train_acc = total_correct_train*100/total_samples\n",
    "\n",
    "    pbar.set_description(f\"{epoch+1}/{epochs}   {average_loss=:.04e}  {train_acc=:.02f}%\")\n",
    "\n",
    "    loss.backward()\n",
    "    optimizer.step()\n",
    "\n",
    "  total_correct, total_samples, test_acc = 0, 0, 0\n",
    "\n",
    "  for X, Y in (pbar := tqdm(testloader, ncols=1000)):\n",
    "    X, Y = X.to(device), Y.to(device)\n",
    "    total_samples += X.shape[0]\n",
    "\n",
    "    with torch.no_grad(): pred = model(X)\n",
    "    total_correct += (pred.argmax(dim=1) == Y).sum()\n",
    "\n",
    "    test_acc = total_correct*100/total_samples\n",
    "\n",
    "    pbar.set_description(f\"{epoch+1}/{epochs}   {test_acc=:.02f}%\")\n",
    "\n",
    "\n"
   ]
  },
  {
   "cell_type": "markdown",
   "metadata": {
    "id": "9ZA7EGi7naE8"
   },
   "source": [
    "## **Creating an adversarial attack**\n",
    "\n",
    "Below you will find a basic template for creating the adversarial attack. Please fill out the below function where indicated.\n",
    "\n",
    "<br>\n",
    "\n",
    "***Details:***\n",
    "\n",
    "We will vary the step size based on the number of steps. Recall that it is okay for any step to go beyond the boundary of $ɛ$, since it will be projected back to the $ɛ$ boundary.\n",
    "\n",
    "- If the number of steps $= 1$, $\\alpha = ɛ$\n",
    "- If the number of steps $>1$ but $<4$, $\\alpha = \\frac{ɛ}{\\text{num_steps}-1}$\n",
    "- If the number of steps $\\geq 4$, $\\alpha = \\frac{eps}{4}$\n",
    "\n",
    "For the adversarial example generation, you will need to implement a few parts. Please look at the code for individual hints. For each step in the attack, you will need to:\n",
    "\n",
    "- Compute the loss on the X_adv\n",
    "- Compute the gradient of X_adv using this loss\n",
    "- Update the X_adv using the sign of the gradient\n",
    "- Clip the difference between X and X_adv to be $\\leqɛ$\n",
    "- Clip X_adv to being between [0, 1]\n",
    "\n",
    "<br>\n",
    "\n",
    "***Verification***\n",
    "\n",
    "The code at the bottom evaluates the model on your PGD attack with $\\varepsilon=\\frac{8}{255}$ and 10 steps. If the implementation is correct, the accuracy of the model against the attack should be very low (around 5% or less)."
   ]
  },
  {
   "cell_type": "code",
   "execution_count": null,
   "metadata": {
    "id": "AgR5zyLMkA8b"
   },
   "outputs": [],
   "source": [
    "def pgd(model=None, X=None, Y=None, eps:float=8./255, num_steps=10):\n",
    "  \"\"\"\n",
    "  this pgd assumes the data passed to it is in the range of [0,1]\n",
    "  \"\"\"\n",
    "\n",
    "  # Here we define the loss used. Since we are working with a classification\n",
    "  # task, we will use the CrossEntropyLoss.\n",
    "  loss = nn.CrossEntropyLoss()\n",
    "\n",
    "  # First create a copy of the original training data. Requires_grad is set to\n",
    "  # True, since the gradient of the image will need to be computed.\n",
    "  X_adv = X.clone().detach().requires_grad_(True)\n",
    "\n",
    "  # The model parameter gradient computation is turned off for the optimization\n",
    "  # since we will not need it.\n",
    "  requires_grad_list = []\n",
    "  for p in model.parameters():\n",
    "    requires_grad_list.append(p.requires_grad)\n",
    "    p.requires_grad_(False)\n",
    "\n",
    "  # ------------------------ [FILL IN CODE HERE] ------------------------------\n",
    "\n",
    "  # The step size of the attack is chosen based on the number of steps taken.\n",
    "  # ---- Fill this in ---- #\n",
    "  step_size = num_steps\n",
    "\n",
    "  # Here, is the main part of the adversarial attack.\n",
    "  # ---- Fill this in ---- #\n",
    "  for _ in range(num_steps):\n",
    "    X_adv.grad = None\n",
    "\n",
    "    # Calculate the loss on the current adversarial example.\n",
    "    # Hint, use the \"loss\" we defined before.\n",
    "    # ---- Fill this in ---- #\n",
    "  ad_loss = \n",
    "\n",
    "    # Compute the gradient on the adversarial image using the previous output\n",
    "    # of the loss. Hint, use the .backward() operation in PyTorch.\n",
    "    # ---- Fill this in ---- #\n",
    "  \n",
    "\n",
    "    with torch.no_grad():\n",
    "\n",
    "      # Update the adversarial example by taking a step in the direction of the\n",
    "      # sign of the gradient of the image X_adv. Use the step_size you defined\n",
    "      # previously.\n",
    "      # ---- Fill this in ---- #\n",
    "\n",
    "\n",
    "      # Clip the difference between X and X_adv to be within eps of each other.\n",
    "      # Hint, use torch.clamp()\n",
    "      # ---- Fill this in ---- #\n",
    "\n",
    "\n",
    "      # Clip the adversarial image to be between [0, 1].\n",
    "      # ---- Fill this in ---- #\n",
    "\n",
    "\n",
    "  # ---------------------------------------------------------------------------\n",
    "\n",
    "  # Reset the model\n",
    "  for p, b in zip(model.parameters(), requires_grad_list):\n",
    "    p.grad = None\n",
    "    p.requires_grad_(b)\n",
    "\n",
    "  # reset model state\n",
    "  X_adv.requires_grad_(False)\n",
    "  return X_adv.detach()\n",
    "\n",
    "\n",
    "def evaluate_adv(model=None, testloader=None, eps=(8/255.), num_steps=10):\n",
    "  '''\n",
    "  This function evaluates the model using the attack parameters provided. The\n",
    "  accuracy against the adversarial attack is returned along with the total\n",
    "  correct and wrong prediction. No modification is necessary.\n",
    "  '''\n",
    "  total_samples, adv_correct, adv_acc = 0, 0, 0\n",
    "\n",
    "  for X, Y in iter(testloader):\n",
    "    X, Y = X.to(device), Y.to(device)\n",
    "    total_samples += X.shape[0]\n",
    "\n",
    "    if eps != 0:\n",
    "      X_adv = pgd(model, X, Y, eps, num_steps)\n",
    "    else:\n",
    "      X_adv = X\n",
    "\n",
    "    with torch.no_grad(): pred = model(X_adv)\n",
    "    adv_correct += (pred.argmax(dim=1) == Y).sum()\n",
    "    adv_acc = adv_correct*100/total_samples\n",
    "\n",
    "  return adv_acc, adv_correct, total_samples-adv_correct\n",
    "\n",
    "\n",
    "adv_acc, correct, wrong = evaluate_adv(model, testloader, eps=(8/255.), num_steps=10)\n",
    "\n",
    "print(\"Correct: %i  \\nWrong: %i \\nTotal:  %i  \\nThe adversarial accuracy is: %.2f  \" % (correct.item(), wrong.item(), correct.item()+wrong.item(),  adv_acc.item()))"
   ]
  },
  {
   "cell_type": "markdown",
   "metadata": {
    "id": "YTeI6FZutMVO"
   },
   "source": [
    "## **Experimenting with the attack**\n",
    "\n",
    "Now that the attack is implemented, let's experiment with it. Run the attack with some different hyperparameters and report the results. Suggestions for the values are given, but feel free to experiment with other values. Matplotlib can be used to plot the results.\n",
    "\n",
    "- Plot the model accuracy when varying $\\varepsilon$ ($\\frac{0}{255} - \\frac{16}{255}$) while keeping the number of steps fixed at 10.\n",
    "\n",
    "- Plot the model accuracy when varying the number of attack steps (1 - 10) while keeping the epsilon fixed at 8/255.\n",
    "\n",
    "- Plot images with different $\\varepsilon$ ($\\frac{0}{255} - \\frac{30}{255}$, plotting every other value). Keep the number of steps fixed at 10."
   ]
  }
 ],
 "metadata": {
  "accelerator": "GPU",
  "colab": {
   "gpuType": "T4",
   "provenance": []
  },
  "kernelspec": {
   "display_name": "Python 3 (ipykernel)",
   "language": "python",
   "name": "python3"
  },
  "language_info": {
   "codemirror_mode": {
    "name": "ipython",
    "version": 3
   },
   "file_extension": ".py",
   "mimetype": "text/x-python",
   "name": "python",
   "nbconvert_exporter": "python",
   "pygments_lexer": "ipython3",
   "version": "3.13.2"
  }
 },
 "nbformat": 4,
 "nbformat_minor": 4
}
