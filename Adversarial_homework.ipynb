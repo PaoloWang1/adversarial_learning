{
 "cells": [
  {
   "cell_type": "markdown",
   "metadata": {
    "id": "DJvw4xnjb9ED"
   },
   "source": [
    "## **Fooling models with adversarial examples**\n",
    "\n",
    "In this homework assignment, you will be crafting an adversarial attack to fool a simple machine learning model. The code for training the model is provided, so you will only be writing the code for a FGSM/PGD attack. After creating your attack, you will use it to measure the model prediction accuracy under several different attack parameters.\n",
    "\n",
    "This assignment can be completed on Google Colab. Since there is some model training done, the free GPU can help speed up the process. To use one, you can click the down arrow in the top right of the page and select the \"Change runtime type\" option. From here, the T4 GPU can be selected. This is optional to do given the simplicity of the model, since the overall training will not take very long on the\n",
    " non-GPU version.\n",
    "\n",
    "<br>\n",
    "\n",
    "The PGD attack is formulated as:\n",
    "\n",
    "$x_{adv}^{t+1}=\\mathcal{P}(x_{adv}^{t}+\\alpha*sign[∇_{x_{adv}^{t}}\\mathcal{L(\\theta,x_{adv}^{t},y)}])   \\text{ where the attack is constrained by } ||x_{adv}-x|| \\leq ɛ$.\n",
    "\n",
    "<br>\n",
    "\n",
    "The PGD attack is an iterative, multi-step attack. The attack is described below.\n",
    "\n",
    "- For the initialization, $X_{adv}^0=x$ will be used.\n",
    "\n",
    "- $\\mathcal{L}(\\theta,x_{adv}^t,y)$ refers to the loss of the model on the adversarial example $x_{adv}^{t}$. The attack will use the gradient of $x_{adv}^{t}$ with respect to this loss $∇_{x_{adv}^{t}}\\mathcal{L(\\theta,x_{adv}^{t},y)}$ to update the adversarial example.\n",
    "\n",
    "- For each step in the attack, the $sign$ of the gradient will be used with a step of size $\\alpha$ for the update. The step size $\\alpha$ will vary based on the total number of steps used by the attack.\n",
    "\n",
    "- After each step, a projection operation $\\mathcal{P}$ is applied to ensure that each pixel of $x_{adv}^{t}$ is no more than $\\varepsilon$ away from the original image $x$ (in practice, this can be done by clipping the image).\n",
    "\n",
    "- The adversarial example will also be constrained to be within the bounds of a natural image [0, 1] (also through clipping).\n",
    "\n",
    "<br>\n",
    "\n",
    "The code below creates a simple CNN model and trains it on CIFAR-10 for 20 epochs. The code can be run without any modification."
   ]
  },
  {
   "cell_type": "code",
   "execution_count": 1,
   "metadata": {
    "id": "xgWfGnoVFzXo"
   },
   "outputs": [
    {
     "data": {
      "image/png": "[encoded data removed]",
      "text/plain": [
       "<Figure size 640x480 with 1 Axes>"
      ]
     },
     "metadata": {},
     "output_type": "display_data"
    },
    {
     "name": "stdout",
     "output_type": "stream",
     "text": [
      "Using mps device\n"
     ]
    },
    {
     "data": {
      "application/vnd.jupyter.widget-view+json": {
       "model_id": "b0cad29a7afb431b840050d90881f750",
       "version_major": 2,
       "version_minor": 0
      },
      "text/plain": [
       "  0%|                                                                                                         …"
      ]
     },
     "metadata": {},
     "output_type": "display_data"
    },
    {
     "data": {
      "application/vnd.jupyter.widget-view+json": {
       "model_id": "781898ea49044e42914ab7369f7ecdc2",
       "version_major": 2,
       "version_minor": 0
      },
      "text/plain": [
       "  0%|                                                                                                         …"
      ]
     },
     "metadata": {},
     "output_type": "display_data"
    },
    {
     "data": {
      "application/vnd.jupyter.widget-view+json": {
       "model_id": "9e9cf9e611144990b1b2c74f57ba6e6d",
       "version_major": 2,
       "version_minor": 0
      },
      "text/plain": [
       "  0%|                                                                                                         …"
      ]
     },
     "metadata": {},
     "output_type": "display_data"
    },
    {
     "data": {
      "application/vnd.jupyter.widget-view+json": {
       "model_id": "d42c36661f3a4b72a067dcf1af210019",
       "version_major": 2,
       "version_minor": 0
      },
      "text/plain": [
       "  0%|                                                                                                         …"
      ]
     },
     "metadata": {},
     "output_type": "display_data"
    },
    {
     "data": {
      "application/vnd.jupyter.widget-view+json": {
       "model_id": "e5d7ad7ad8634c7583bb0113209407fd",
       "version_major": 2,
       "version_minor": 0
      },
      "text/plain": [
       "  0%|                                                                                                         …"
      ]
     },
     "metadata": {},
     "output_type": "display_data"
    },
    {
     "data": {
      "application/vnd.jupyter.widget-view+json": {
       "model_id": "40a22fddbdb84ef5a3c1fec9ad42ae1a",
       "version_major": 2,
       "version_minor": 0
      },
      "text/plain": [
       "  0%|                                                                                                         …"
      ]
     },
     "metadata": {},
     "output_type": "display_data"
    },
    {
     "data": {
      "application/vnd.jupyter.widget-view+json": {
       "model_id": "094929b0f92c4aaab22c576ad560dd18",
       "version_major": 2,
       "version_minor": 0
      },
      "text/plain": [
       "  0%|                                                                                                         …"
      ]
     },
     "metadata": {},
     "output_type": "display_data"
    },
    {
     "data": {
      "application/vnd.jupyter.widget-view+json": {
       "model_id": "d426dda9c5eb494caf80ec67ee122a1d",
       "version_major": 2,
       "version_minor": 0
      },
      "text/plain": [
       "  0%|                                                                                                         …"
      ]
     },
     "metadata": {},
     "output_type": "display_data"
    },
    {
     "data": {
      "application/vnd.jupyter.widget-view+json": {
       "model_id": "dfda35265ab4410cb292c4888c9058eb",
       "version_major": 2,
       "version_minor": 0
      },
      "text/plain": [
       "  0%|                                                                                                         …"
      ]
     },
     "metadata": {},
     "output_type": "display_data"
    },
    {
     "data": {
      "application/vnd.jupyter.widget-view+json": {
       "model_id": "e534c2428e3646669373f1068a1f83fc",
       "version_major": 2,
       "version_minor": 0
      },
      "text/plain": [
       "  0%|                                                                                                         …"
      ]
     },
     "metadata": {},
     "output_type": "display_data"
    },
    {
     "data": {
      "application/vnd.jupyter.widget-view+json": {
       "model_id": "4bfa6f5c8a134eeeb7e9f6eda56b28cf",
       "version_major": 2,
       "version_minor": 0
      },
      "text/plain": [
       "  0%|                                                                                                         …"
      ]
     },
     "metadata": {},
     "output_type": "display_data"
    },
    {
     "data": {
      "application/vnd.jupyter.widget-view+json": {
       "model_id": "cea40a34c74a40a6b1b4f4c1bf9a4776",
       "version_major": 2,
       "version_minor": 0
      },
      "text/plain": [
       "  0%|                                                                                                         …"
      ]
     },
     "metadata": {},
     "output_type": "display_data"
    },
    {
     "data": {
      "application/vnd.jupyter.widget-view+json": {
       "model_id": "3ac31d50b4664d7c880fb76e97e8c097",
       "version_major": 2,
       "version_minor": 0
      },
      "text/plain": [
       "  0%|                                                                                                         …"
      ]
     },
     "metadata": {},
     "output_type": "display_data"
    },
    {
     "data": {
      "application/vnd.jupyter.widget-view+json": {
       "model_id": "b69df0d357ef4d90bd36c9b555075445",
       "version_major": 2,
       "version_minor": 0
      },
      "text/plain": [
       "  0%|                                                                                                         …"
      ]
     },
     "metadata": {},
     "output_type": "display_data"
    },
    {
     "data": {
      "application/vnd.jupyter.widget-view+json": {
       "model_id": "e0037f78893d47b0b575f4848895f406",
       "version_major": 2,
       "version_minor": 0
      },
      "text/plain": [
       "  0%|                                                                                                         …"
      ]
     },
     "metadata": {},
     "output_type": "display_data"
    },
    {
     "data": {
      "application/vnd.jupyter.widget-view+json": {
       "model_id": "8b9d3e1f35a74a6cb7dd91c15a3394b9",
       "version_major": 2,
       "version_minor": 0
      },
      "text/plain": [
       "  0%|                                                                                                         …"
      ]
     },
     "metadata": {},
     "output_type": "display_data"
    },
    {
     "data": {
      "application/vnd.jupyter.widget-view+json": {
       "model_id": "2e3c4e722f8645dabb0eed3e3a44e199",
       "version_major": 2,
       "version_minor": 0
      },
      "text/plain": [
       "  0%|                                                                                                         …"
      ]
     },
     "metadata": {},
     "output_type": "display_data"
    },
    {
     "data": {
      "application/vnd.jupyter.widget-view+json": {
       "model_id": "6b6c502b842b4dda8f3b41073e035f3c",
       "version_major": 2,
       "version_minor": 0
      },
      "text/plain": [
       "  0%|                                                                                                         …"
      ]
     },
     "metadata": {},
     "output_type": "display_data"
    },
    {
     "data": {
      "application/vnd.jupyter.widget-view+json": {
       "model_id": "46ed5e54c1e445768d5102b95257a285",
       "version_major": 2,
       "version_minor": 0
      },
      "text/plain": [
       "  0%|                                                                                                         …"
      ]
     },
     "metadata": {},
     "output_type": "display_data"
    },
    {
     "data": {
      "application/vnd.jupyter.widget-view+json": {
       "model_id": "6ae8bd6012fc4c719da17dcc5deede2d",
       "version_major": 2,
       "version_minor": 0
      },
      "text/plain": [
       "  0%|                                                                                                         …"
      ]
     },
     "metadata": {},
     "output_type": "display_data"
    },
    {
     "data": {
      "application/vnd.jupyter.widget-view+json": {
       "model_id": "8c0371595a7e44bf85d52769cc724887",
       "version_major": 2,
       "version_minor": 0
      },
      "text/plain": [
       "  0%|                                                                                                         …"
      ]
     },
     "metadata": {},
     "output_type": "display_data"
    },
    {
     "data": {
      "application/vnd.jupyter.widget-view+json": {
       "model_id": "9bdd6b349cc04ea6bc3963397a6e818c",
       "version_major": 2,
       "version_minor": 0
      },
      "text/plain": [
       "  0%|                                                                                                         …"
      ]
     },
     "metadata": {},
     "output_type": "display_data"
    },
    {
     "data": {
      "application/vnd.jupyter.widget-view+json": {
       "model_id": "c7ecf37ba49144f88184dc1102a6234a",
       "version_major": 2,
       "version_minor": 0
      },
      "text/plain": [
       "  0%|                                                                                                         …"
      ]
     },
     "metadata": {},
     "output_type": "display_data"
    },
    {
     "data": {
      "application/vnd.jupyter.widget-view+json": {
       "model_id": "260c0a16538441e1ab25debdb6eac6f6",
       "version_major": 2,
       "version_minor": 0
      },
      "text/plain": [
       "  0%|                                                                                                         …"
      ]
     },
     "metadata": {},
     "output_type": "display_data"
    },
    {
     "data": {
      "application/vnd.jupyter.widget-view+json": {
       "model_id": "c7f4018af9be4b3fb977e91a5e401b28",
       "version_major": 2,
       "version_minor": 0
      },
      "text/plain": [
       "  0%|                                                                                                         …"
      ]
     },
     "metadata": {},
     "output_type": "display_data"
    },
    {
     "data": {
      "application/vnd.jupyter.widget-view+json": {
       "model_id": "d02a0c5e110a46119cc94ef5e6d4172c",
       "version_major": 2,
       "version_minor": 0
      },
      "text/plain": [
       "  0%|                                                                                                         …"
      ]
     },
     "metadata": {},
     "output_type": "display_data"
    },
    {
     "data": {
      "application/vnd.jupyter.widget-view+json": {
       "model_id": "d51f479b5d40445485726fe2704c04c0",
       "version_major": 2,
       "version_minor": 0
      },
      "text/plain": [
       "  0%|                                                                                                         …"
      ]
     },
     "metadata": {},
     "output_type": "display_data"
    },
    {
     "data": {
      "application/vnd.jupyter.widget-view+json": {
       "model_id": "d3927382267d4d3a839fc5c02f38b581",
       "version_major": 2,
       "version_minor": 0
      },
      "text/plain": [
       "  0%|                                                                                                         …"
      ]
     },
     "metadata": {},
     "output_type": "display_data"
    },
    {
     "data": {
      "application/vnd.jupyter.widget-view+json": {
       "model_id": "7c6456de2f4d400880c672ce239cd5b0",
       "version_major": 2,
       "version_minor": 0
      },
      "text/plain": [
       "  0%|                                                                                                         …"
      ]
     },
     "metadata": {},
     "output_type": "display_data"
    },
    {
     "data": {
      "application/vnd.jupyter.widget-view+json": {
       "model_id": "37058946041c45e4b15ceac34a751cd1",
       "version_major": 2,
       "version_minor": 0
      },
      "text/plain": [
       "  0%|                                                                                                         …"
      ]
     },
     "metadata": {},
     "output_type": "display_data"
    },
    {
     "data": {
      "application/vnd.jupyter.widget-view+json": {
       "model_id": "e35920f6f9b74c59a413ca8527d74163",
       "version_major": 2,
       "version_minor": 0
      },
      "text/plain": [
       "  0%|                                                                                                         …"
      ]
     },
     "metadata": {},
     "output_type": "display_data"
    },
    {
     "data": {
      "application/vnd.jupyter.widget-view+json": {
       "model_id": "620f1167a450428a9d26b8da5c02f94f",
       "version_major": 2,
       "version_minor": 0
      },
      "text/plain": [
       "  0%|                                                                                                         …"
      ]
     },
     "metadata": {},
     "output_type": "display_data"
    },
    {
     "data": {
      "application/vnd.jupyter.widget-view+json": {
       "model_id": "959777f513a64e2a8012aab31b775743",
       "version_major": 2,
       "version_minor": 0
      },
      "text/plain": [
       "  0%|                                                                                                         …"
      ]
     },
     "metadata": {},
     "output_type": "display_data"
    },
    {
     "data": {
      "application/vnd.jupyter.widget-view+json": {
       "model_id": "5dea329b185f4e5fb1db20fa0e52bc72",
       "version_major": 2,
       "version_minor": 0
      },
      "text/plain": [
       "  0%|                                                                                                         …"
      ]
     },
     "metadata": {},
     "output_type": "display_data"
    },
    {
     "data": {
      "application/vnd.jupyter.widget-view+json": {
       "model_id": "a53775da1f9f4f159f32f12b9597edff",
       "version_major": 2,
       "version_minor": 0
      },
      "text/plain": [
       "  0%|                                                                                                         …"
      ]
     },
     "metadata": {},
     "output_type": "display_data"
    },
    {
     "data": {
      "application/vnd.jupyter.widget-view+json": {
       "model_id": "69b66af0bb9644ce8d39ed421cf4c2b7",
       "version_major": 2,
       "version_minor": 0
      },
      "text/plain": [
       "  0%|                                                                                                         …"
      ]
     },
     "metadata": {},
     "output_type": "display_data"
    },
    {
     "data": {
      "application/vnd.jupyter.widget-view+json": {
       "model_id": "6be41b3101cd4461ad296ce0b111d628",
       "version_major": 2,
       "version_minor": 0
      },
      "text/plain": [
       "  0%|                                                                                                         …"
      ]
     },
     "metadata": {},
     "output_type": "display_data"
    },
    {
     "data": {
      "application/vnd.jupyter.widget-view+json": {
       "model_id": "d16c2d88b99746f1ae6b79f36dd2b099",
       "version_major": 2,
       "version_minor": 0
      },
      "text/plain": [
       "  0%|                                                                                                         …"
      ]
     },
     "metadata": {},
     "output_type": "display_data"
    },
    {
     "data": {
      "application/vnd.jupyter.widget-view+json": {
       "model_id": "a8b2cbca4a68440d8da52440f74e58af",
       "version_major": 2,
       "version_minor": 0
      },
      "text/plain": [
       "  0%|                                                                                                         …"
      ]
     },
     "metadata": {},
     "output_type": "display_data"
    },
    {
     "data": {
      "application/vnd.jupyter.widget-view+json": {
       "model_id": "6007f461c30942f4a22655ebab826fb3",
       "version_major": 2,
       "version_minor": 0
      },
      "text/plain": [
       "  0%|                                                                                                         …"
      ]
     },
     "metadata": {},
     "output_type": "display_data"
    }
   ],
   "source": [
    "import torch\n",
    "import torch.nn as nn\n",
    "import torch.nn.functional as F\n",
    "from torch.utils.data import DataLoader, TensorDataset\n",
    "import torch.optim as optim\n",
    "import torchvision\n",
    "from torchvision import transforms\n",
    "\n",
    "import matplotlib.pyplot as plt\n",
    "import numpy as np\n",
    "\n",
    "class CNN(nn.Module):\n",
    "  def __init__(self, num_classes=10):\n",
    "    super(CNN, self).__init__()\n",
    "    self.conv1 = nn.Conv2d(3, 16, kernel_size=3, padding=1)\n",
    "    self.conv2 = nn.Conv2d(16, 32, kernel_size=3, padding=1)\n",
    "    self.conv3 = nn.Conv2d(32, 64, kernel_size=3, padding=1)\n",
    "    self.fc1 = nn.Linear(64*4*4, 256)\n",
    "    self.fc2 = nn.Linear(256, num_classes)\n",
    "    self.pool = nn.MaxPool2d(2,2)\n",
    "\n",
    "  def forward(self, x):\n",
    "    x = self.pool(F.relu(self.conv1(x)))\n",
    "    x = self.pool(F.relu(self.conv2(x)))\n",
    "    x = self.pool(F.relu(self.conv3(x)))\n",
    "    x = torch.flatten(x, 1)\n",
    "    x = F.relu(self.fc1(x))\n",
    "    x = self.fc2(x)\n",
    "    return(x)\n",
    "\n",
    "transform = transforms.Compose([\n",
    "  transforms.ToTensor()\n",
    "])\n",
    "\n",
    "trainset = torchvision.datasets.CIFAR10(root='data', train=True, transform=transform, download=True)\n",
    "testset  = torchvision.datasets.CIFAR10(root='data', train=False, transform=transform)\n",
    "\n",
    "trainloader = DataLoader(trainset, batch_size=256, shuffle=True, num_workers=1, pin_memory=True)\n",
    "testloader  = DataLoader(testset, batch_size=1000, shuffle=False, num_workers=1, pin_memory=True)\n",
    "\n",
    "plt.imshow(trainset[0][0].permute(1,2,0))\n",
    "plt.title('Training image')\n",
    "plt.show()\n",
    "\n",
    "\n",
    "device = torch.accelerator.current_accelerator().type if torch.accelerator.is_available() else \"cpu\"\n",
    "print(f\"Using {device} device\")\n",
    "\n",
    "model = CNN(num_classes=10).to(device)\n",
    "loss_fn = nn.CrossEntropyLoss()\n",
    "optimizer = optim.SGD(model.parameters(), lr=0.01, momentum=0.9)\n",
    "\n",
    "from tqdm.notebook import tqdm\n",
    "\n",
    "epochs = 20\n",
    "\n",
    "for epoch in range(epochs):  # loop over the dataset multiple times\n",
    "\n",
    "  total_correct_train, total_samples, total_loss, total_batches = 0, 0, 0, 0\n",
    "\n",
    "  for X, Y in (pbar := tqdm(trainloader, ncols=1000)):\n",
    "    X, Y = X.to(device), Y.to(device)\n",
    "\n",
    "    optimizer.zero_grad()\n",
    "    pred = model(X)\n",
    "    loss = loss_fn(pred, Y)\n",
    "\n",
    "    total_loss += loss.item()\n",
    "    total_batches += 1\n",
    "    total_correct_train += (pred.argmax(dim=1) == Y).sum()\n",
    "    total_samples += X.shape[0]\n",
    "\n",
    "    average_loss = total_loss/total_batches\n",
    "    train_acc = total_correct_train*100/total_samples\n",
    "\n",
    "    pbar.set_description(f\"{epoch+1}/{epochs}   {average_loss=:.04e}  {train_acc=:.02f}%\")\n",
    "\n",
    "    loss.backward()\n",
    "    optimizer.step()\n",
    "\n",
    "  total_correct, total_samples, test_acc = 0, 0, 0\n",
    "\n",
    "  for X, Y in (pbar := tqdm(testloader, ncols=1000)):\n",
    "    X, Y = X.to(device), Y.to(device)\n",
    "    total_samples += X.shape[0]\n",
    "\n",
    "    with torch.no_grad(): pred = model(X)\n",
    "    total_correct += (pred.argmax(dim=1) == Y).sum()\n",
    "\n",
    "    test_acc = total_correct*100/total_samples\n",
    "\n",
    "    pbar.set_description(f\"{epoch+1}/{epochs}   {test_acc=:.02f}%\")\n",
    "\n",
    "\n"
   ]
  },
  {
   "cell_type": "markdown",
   "metadata": {
    "id": "9ZA7EGi7naE8"
   },
   "source": [
    "## **Creating an adversarial attack**\n",
    "\n",
    "Below you will find a basic template for creating the adversarial attack. Please fill out the below function where indicated.\n",
    "\n",
    "<br>\n",
    "\n",
    "***Details:***\n",
    "\n",
    "We will vary the step size based on the number of steps. Recall that it is okay for any step to go beyond the boundary of $ɛ$, since it will be projected back to the $ɛ$ boundary.\n",
    "\n",
    "- If the number of steps $= 1$, $\\alpha = ɛ$\n",
    "- If the number of steps $>1$ but $<4$, $\\alpha = \\frac{ɛ}{\\text{num_steps}-1}$\n",
    "- If the number of steps $\\geq 4$, $\\alpha = \\frac{eps}{4}$\n",
    "\n",
    "For the adversarial example generation, you will need to implement a few parts. Please look at the code for individual hints. For each step in the attack, you will need to:\n",
    "\n",
    "- Compute the loss on the X_adv\n",
    "- Compute the gradient of X_adv using this loss\n",
    "- Update the X_adv using the sign of the gradient\n",
    "- Clip the difference between X and X_adv to be $\\leqɛ$\n",
    "- Clip X_adv to being between [0, 1]\n",
    "\n",
    "<br>\n",
    "\n",
    "***Verification***\n",
    "\n",
    "The code at the bottom evaluates the model on your PGD attack with $\\varepsilon=\\frac{8}{255}$ and 10 steps. If the implementation is correct, the accuracy of the model against the attack should be very low (around 5% or less)."
   ]
  },
  {
   "cell_type": "code",
   "execution_count": 3,
   "metadata": {
    "id": "AgR5zyLMkA8b"
   },
   "outputs": [
    {
     "name": "stdout",
     "output_type": "stream",
     "text": [
      "Correct: 92  \n",
      "Wrong: 9908 \n",
      "Total:  10000  \n",
      "The adversarial accuracy is: 0.92  \n"
     ]
    }
   ],
   "source": [
    "def pgd(model=None, X=None, Y=None, eps:float=8./255, num_steps=10):\n",
    "    \"\"\"\n",
    "    this pgd assumes the data passed to it is in the range of [0,1]\n",
    "    \"\"\"\n",
    "    \n",
    "    # Here we define the loss used. Since we are working with a classification\n",
    "    # task, we will use the CrossEntropyLoss.\n",
    "    loss = nn.CrossEntropyLoss()\n",
    "    \n",
    "    # First create a copy of the original training data. Requires_grad is set to\n",
    "    # True, since the gradient of the image will need to be computed.\n",
    "    X_adv = X.clone().detach().requires_grad_(True)\n",
    "    \n",
    "    # The model parameter gradient computation is turned off for the optimization\n",
    "    # since we will not need it.\n",
    "    requires_grad_list = []\n",
    "    for p in model.parameters():\n",
    "        requires_grad_list.append(p.requires_grad)\n",
    "        p.requires_grad_(False)\n",
    "\n",
    "    # ------------------------ [FILL IN CODE HERE] ------------------------------\n",
    "    \n",
    "    # The step size of the attack is chosen based on the number of steps taken.\n",
    "    # ---- Fill this in ---- #\n",
    "    step_size = eps\n",
    "    if (num_steps > 1):\n",
    "        if (num_steps < 4):\n",
    "            step_size = eps/(num_steps-1)\n",
    "        else:\n",
    "            step_size = eps/4\n",
    "    \n",
    "    # Here, is the main part of the adversarial attack.\n",
    "    # ---- Fill this in ---- #\n",
    "    for _ in range(num_steps):\n",
    "        X_adv.grad = None\n",
    "        \n",
    "        # Calculate the loss on the current adversarial example.\n",
    "        # Hint, use the \"loss\" we defined before.\n",
    "        # ---- Fill this in ---- #\n",
    "        adv_loss = loss(model(X_adv), Y)\n",
    "        \n",
    "        # Compute the gradient on the adversarial image using the previous output\n",
    "        # of the loss. Hint, use the .backward() operation in PyTorch.\n",
    "        # ---- Fill this in ---- #\n",
    "        adv_loss.backward()\n",
    "        \n",
    "        with torch.no_grad():\n",
    "        \n",
    "            # Update the adversarial example by taking a step in the direction of the\n",
    "            # sign of the gradient of the image X_adv. Use the step_size you defined\n",
    "            # previously.\n",
    "            # ---- Fill this in ---- #\n",
    "            X_adv = X_adv +  step_size * X_adv.grad.sign()\n",
    "            \n",
    "            # Clip the difference between X and X_adv to be within eps of each other.\n",
    "            # Hint, use torch.clamp()\n",
    "            # ---- Fill this in ---- #\n",
    "            X_adv = torch.clamp(X_adv, X - eps, X + eps)\n",
    "            \n",
    "            # Clip the adversarial image to be between [0, 1].\n",
    "            # ---- Fill this in ---- #\n",
    "            X_adv = torch.clamp(X_adv, 0, 1)\n",
    "        X_adv.requires_grad_(True)\n",
    "\n",
    "    # ---------------------------------------------------------------------------\n",
    "\n",
    "    # Reset the model\n",
    "    for p, b in zip(model.parameters(), requires_grad_list):\n",
    "        p.grad = None\n",
    "        p.requires_grad_(b)\n",
    "\n",
    "    # reset model state\n",
    "    X_adv.requires_grad_(False)\n",
    "    return X_adv.detach()\n",
    "\n",
    "\n",
    "def evaluate_adv(model=None, testloader=None, eps=(8/255.), num_steps=10):\n",
    "    '''\n",
    "    This function evaluates the model using the attack parameters provided. The\n",
    "    accuracy against the adversarial attack is returned along with the total\n",
    "    correct and wrong prediction. No modification is necessary.\n",
    "    '''\n",
    "    total_samples, adv_correct, adv_acc = 0, 0, 0\n",
    "    \n",
    "    for X, Y in iter(testloader):\n",
    "        X, Y = X.to(device), Y.to(device)\n",
    "        total_samples += X.shape[0]\n",
    "\n",
    "        if eps != 0:\n",
    "            X_adv = pgd(model, X, Y, eps, num_steps)\n",
    "        else:\n",
    "            X_adv = X\n",
    "        with torch.no_grad(): pred = model(X_adv)\n",
    "        adv_correct += (pred.argmax(dim=1) == Y).sum()\n",
    "        adv_acc = adv_correct*100/total_samples\n",
    "    return adv_acc, adv_correct, total_samples-adv_correct\n",
    "\n",
    "\n",
    "adv_acc, correct, wrong = evaluate_adv(model, testloader, eps=(8/255.), num_steps=10)\n",
    "\n",
    "print(\"Correct: %i  \\nWrong: %i \\nTotal:  %i  \\nThe adversarial accuracy is: %.2f  \" % (correct.item(), wrong.item(), correct.item()+wrong.item(),  adv_acc.item()))"
   ]
  },
  {
   "cell_type": "markdown",
   "metadata": {
    "id": "YTeI6FZutMVO"
   },
   "source": [
    "## **Experimenting with the attack**\n",
    "\n",
    "Now that the attack is implemented, let's experiment with it. Run the attack with some different hyperparameters and report the results. Suggestions for the values are given, but feel free to experiment with other values. Matplotlib can be used to plot the results.\n",
    "\n",
    "- Plot the model accuracy when varying $\\varepsilon$ ($\\frac{0}{255} - \\frac{16}{255}$) while keeping the number of steps fixed at 10.\n",
    "\n",
    "- Plot the model accuracy when varying the number of attack steps (1 - 10) while keeping the epsilon fixed at 8/255.\n",
    "\n",
    "- Plot images with different $\\varepsilon$ ($\\frac{0}{255} - \\frac{30}{255}$, plotting every other value). Keep the number of steps fixed at 10."
   ]
  },
  {
   "cell_type": "code",
   "execution_count": 3,
   "metadata": {},
   "outputs": [],
   "source": [
    "acc_list = []\n",
    "for x in range(17):\n",
    "    acc_list.append([x, evaluate_adv(model, testloader, eps=(x/255.), num_steps=10)[0].item()])\n",
    "acc_arr = np.array(acc_list)\n",
    "\n"
   ]
  },
  {
   "cell_type": "code",
   "execution_count": null,
   "metadata": {},
   "outputs": [],
   "source": [
    "ep = acc_arr[:,0]\n",
    "accuracies = acc_arr[:,1]\n",
    "plt.plot(ep, accuracies)"
   ]
  },
  {
   "cell_type": "code",
   "execution_count": null,
   "metadata": {},
   "outputs": [],
   "source": [
    "acc_list_step = []\n",
    "for x in range(10):\n",
    "    acc_list_step.append([x, evaluate_adv(model, testloader, eps=(8/255.), num_steps=x+1)[0].item()])\n",
    "acc_step = np.array(acc_list_step)\n",
    "\n",
    "ep_step = acc_step[:,0]\n",
    "accuracies_step = acc_step[:,1]\n",
    "plt.plot(ep_step, accuracies_step)"
   ]
  },
  {
   "cell_type": "code",
   "execution_count": 6,
   "metadata": {},
   "outputs": [],
   "source": [
    "#img, label = trainset[0][0].to(device), trainset[0][1].to(device)\n",
    "for X, Y in iter(testloader):\n",
    "    X, Y = X.to(device), Y.to(device)\n",
    "    total_samples += X.shape[0]\n",
    "\n"
   ]
  },
  {
   "cell_type": "code",
   "execution_count": null,
   "metadata": {},
   "outputs": [],
   "source": [
    "for x in range(15):\n",
    "    adv_ex = pgd(model, X, Y, eps=(2*x/255.))\n",
    "    plt.figure()\n",
    "    plt.imshow(adv_ex[0].cpu().permute(1, 2, 0))"
   ]
  },
  {
   "cell_type": "code",
   "execution_count": 65,
   "metadata": {},
   "outputs": [
    {
     "data": {
      "image/png": "[encoded data removed]",
      "text/plain": [
       "<Figure size 640x480 with 1 Axes>"
      ]
     },
     "metadata": {},
     "output_type": "display_data"
    }
   ],
   "source": [
    "plt.imshow(trainset[1][0].permute(1,2,0))\n",
    "plt.show()"
   ]
  },
  {
   "cell_type": "code",
   "execution_count": 9,
   "metadata": {},
   "outputs": [
    {
     "data": {
      "application/vnd.jupyter.widget-view+json": {
       "model_id": "7e2633c5792f4428a9327916a214e3af",
       "version_major": 2,
       "version_minor": 0
      },
      "text/plain": [
       "  0%|          | 0/196 [00:00<?, ?it/s]"
      ]
     },
     "metadata": {},
     "output_type": "display_data"
    },
    {
     "data": {
      "application/vnd.jupyter.widget-view+json": {
       "model_id": "dd91b424232d4e2fbc5ce6adb07879ec",
       "version_major": 2,
       "version_minor": 0
      },
      "text/plain": [
       "  0%|          | 0/10 [00:00<?, ?it/s]"
      ]
     },
     "metadata": {},
     "output_type": "display_data"
    }
   ],
   "source": [
    "from torch.utils.data import DataLoader, TensorDataset\n",
    "eps=(8/255.)\n",
    "num_steps=7\n",
    "all_adv_images = []\n",
    "all_labels = []\n",
    "for images, labels in tqdm(trainloader):\n",
    "    images, labels = images.to(device), labels.to(device)\n",
    "    adv_images = pgd(model, images, labels, eps, num_steps)\n",
    "    all_adv_images.append(adv_images.cpu())\n",
    "    all_labels.append(labels.cpu())\n",
    "all_adv_images = torch.cat(all_adv_images, dim=0)\n",
    "all_labels = torch.cat(all_labels, dim=0)\n",
    "adv_trainset = TensorDataset(all_adv_images, all_labels)\n",
    "all_adv_images = []\n",
    "all_labels = []\n",
    "for images, labels in tqdm(testloader):\n",
    "    images, labels = images.to(device), labels.to(device)\n",
    "    adv_images = pgd(model, images, labels, eps, num_steps)\n",
    "    all_adv_images.append(adv_images.cpu())\n",
    "    all_labels.append(labels.cpu())\n",
    "all_adv_images = torch.cat(all_adv_images, dim=0)\n",
    "all_labels = torch.cat(all_labels, dim=0)\n",
    "adv_testset = TensorDataset(all_adv_images, all_labels)"
   ]
  },
  {
   "cell_type": "code",
   "execution_count": 20,
   "metadata": {},
   "outputs": [
    {
     "data": {
      "text/plain": [
       "<matplotlib.image.AxesImage at 0x32a9f5590>"
      ]
     },
     "execution_count": 20,
     "metadata": {},
     "output_type": "execute_result"
    },
    {
     "data": {
      "image/png": "[encoded data removed]",
      "text/plain": [
       "<Figure size 640x480 with 1 Axes>"
      ]
     },
     "metadata": {},
     "output_type": "display_data"
    },
    {
     "data": {
      "image/png": "[encoded data removed]",
      "text/plain": [
       "<Figure size 640x480 with 1 Axes>"
      ]
     },
     "metadata": {},
     "output_type": "display_data"
    }
   ],
   "source": [
    "len(adv_trainset)\n",
    "plt.figure()\n",
    "plt.imshow(adv_trainset[0][0].permute(1,2,0).detach().cpu())"
   ]
  },
  {
   "cell_type": "code",
   "execution_count": 22,
   "metadata": {},
   "outputs": [
    {
     "name": "stdout",
     "output_type": "stream",
     "text": [
      "tensor(1.1400, device='mps:0') tensor(114, device='mps:0') tensor(9886, device='mps:0')\n"
     ]
    }
   ],
   "source": [
    "total_samples, adv_correct, adv_acc = 0, 0, 0\n",
    "for X, Y in iter(adv_testloader):\n",
    "    X, Y = X.to(device), Y.to(device)\n",
    "    total_samples += X.shape[0]\n",
    "    X_adv = X\n",
    "    with torch.no_grad(): pred = model(X_adv)\n",
    "    adv_correct += (pred.argmax(dim=1) == Y).sum()\n",
    "    adv_acc = adv_correct*100/total_samples\n",
    "print(adv_acc.item(), adv_correct.item(), total_samples-adv_correct))"
   ]
  },
  {
   "cell_type": "code",
   "execution_count": 12,
   "metadata": {},
   "outputs": [],
   "source": [
    "adv_trainloader = DataLoader(\n",
    "    adv_trainset,\n",
    "    batch_size=256,\n",
    "    shuffle=True,\n",
    "    num_workers=1,\n",
    "    multiprocessing_context='spawn'\n",
    ")"
   ]
  },
  {
   "cell_type": "code",
   "execution_count": 13,
   "metadata": {},
   "outputs": [],
   "source": [
    "adv_testloader = DataLoader(\n",
    "    adv_testset,\n",
    "    batch_size=1000,\n",
    "    shuffle=False,\n",
    "    num_workers=1,\n",
    "    multiprocessing_context='spawn'\n",
    ")"
   ]
  },
  {
   "cell_type": "code",
   "execution_count": 14,
   "metadata": {},
   "outputs": [
    {
     "data": {
      "image/png": "[encoded data removed]",
      "text/plain": [
       "<Figure size 640x480 with 1 Axes>"
      ]
     },
     "metadata": {},
     "output_type": "display_data"
    },
    {
     "name": "stdout",
     "output_type": "stream",
     "text": [
      "Using mps device\n"
     ]
    },
    {
     "data": {
      "application/vnd.jupyter.widget-view+json": {
       "model_id": "8f92aa458e9f42b0bdc43ffd7ea9dfb8",
       "version_major": 2,
       "version_minor": 0
      },
      "text/plain": [
       "  0%|                                                                                                         …"
      ]
     },
     "metadata": {},
     "output_type": "display_data"
    },
    {
     "data": {
      "application/vnd.jupyter.widget-view+json": {
       "model_id": "1bdf8cd4a53d4afb807aa3073014ac00",
       "version_major": 2,
       "version_minor": 0
      },
      "text/plain": [
       "  0%|                                                                                                         …"
      ]
     },
     "metadata": {},
     "output_type": "display_data"
    },
    {
     "data": {
      "application/vnd.jupyter.widget-view+json": {
       "model_id": "6b4fd042bf254303b41e6df86a548142",
       "version_major": 2,
       "version_minor": 0
      },
      "text/plain": [
       "  0%|                                                                                                         …"
      ]
     },
     "metadata": {},
     "output_type": "display_data"
    },
    {
     "data": {
      "application/vnd.jupyter.widget-view+json": {
       "model_id": "0fd7ec888c1841c39e3a21db62a0d249",
       "version_major": 2,
       "version_minor": 0
      },
      "text/plain": [
       "  0%|                                                                                                         …"
      ]
     },
     "metadata": {},
     "output_type": "display_data"
    },
    {
     "data": {
      "application/vnd.jupyter.widget-view+json": {
       "model_id": "404a1efbc5d94ee981a1646b4a77f732",
       "version_major": 2,
       "version_minor": 0
      },
      "text/plain": [
       "  0%|                                                                                                         …"
      ]
     },
     "metadata": {},
     "output_type": "display_data"
    },
    {
     "data": {
      "application/vnd.jupyter.widget-view+json": {
       "model_id": "5059fc2e7ba24d0189b2e971cd1af4df",
       "version_major": 2,
       "version_minor": 0
      },
      "text/plain": [
       "  0%|                                                                                                         …"
      ]
     },
     "metadata": {},
     "output_type": "display_data"
    },
    {
     "data": {
      "application/vnd.jupyter.widget-view+json": {
       "model_id": "ba769bf891fd49818c6989f75a5badf3",
       "version_major": 2,
       "version_minor": 0
      },
      "text/plain": [
       "  0%|                                                                                                         …"
      ]
     },
     "metadata": {},
     "output_type": "display_data"
    },
    {
     "data": {
      "application/vnd.jupyter.widget-view+json": {
       "model_id": "0bbb8aa9c5a54796a917d66af42610cd",
       "version_major": 2,
       "version_minor": 0
      },
      "text/plain": [
       "  0%|                                                                                                         …"
      ]
     },
     "metadata": {},
     "output_type": "display_data"
    },
    {
     "data": {
      "application/vnd.jupyter.widget-view+json": {
       "model_id": "17a560a5f6244365a5353ce900d30d14",
       "version_major": 2,
       "version_minor": 0
      },
      "text/plain": [
       "  0%|                                                                                                         …"
      ]
     },
     "metadata": {},
     "output_type": "display_data"
    },
    {
     "data": {
      "application/vnd.jupyter.widget-view+json": {
       "model_id": "b78537cebacc4f1db397ba61304795ad",
       "version_major": 2,
       "version_minor": 0
      },
      "text/plain": [
       "  0%|                                                                                                         …"
      ]
     },
     "metadata": {},
     "output_type": "display_data"
    },
    {
     "data": {
      "application/vnd.jupyter.widget-view+json": {
       "model_id": "c9271a20d5f94e108626e2072237b344",
       "version_major": 2,
       "version_minor": 0
      },
      "text/plain": [
       "  0%|                                                                                                         …"
      ]
     },
     "metadata": {},
     "output_type": "display_data"
    },
    {
     "data": {
      "application/vnd.jupyter.widget-view+json": {
       "model_id": "7a4ba4458c964c0fb4f8481b7171f405",
       "version_major": 2,
       "version_minor": 0
      },
      "text/plain": [
       "  0%|                                                                                                         …"
      ]
     },
     "metadata": {},
     "output_type": "display_data"
    },
    {
     "data": {
      "application/vnd.jupyter.widget-view+json": {
       "model_id": "ea19f5a7616c4e2fac215f25bf8b79e8",
       "version_major": 2,
       "version_minor": 0
      },
      "text/plain": [
       "  0%|                                                                                                         …"
      ]
     },
     "metadata": {},
     "output_type": "display_data"
    },
    {
     "data": {
      "application/vnd.jupyter.widget-view+json": {
       "model_id": "802e1e3795fd4ddcb1451c9b943896b8",
       "version_major": 2,
       "version_minor": 0
      },
      "text/plain": [
       "  0%|                                                                                                         …"
      ]
     },
     "metadata": {},
     "output_type": "display_data"
    },
    {
     "data": {
      "application/vnd.jupyter.widget-view+json": {
       "model_id": "00c48f5216a44f07b233b4e4ade7c05d",
       "version_major": 2,
       "version_minor": 0
      },
      "text/plain": [
       "  0%|                                                                                                         …"
      ]
     },
     "metadata": {},
     "output_type": "display_data"
    },
    {
     "data": {
      "application/vnd.jupyter.widget-view+json": {
       "model_id": "6d9b8363f4204520ad7e59299a8463a7",
       "version_major": 2,
       "version_minor": 0
      },
      "text/plain": [
       "  0%|                                                                                                         …"
      ]
     },
     "metadata": {},
     "output_type": "display_data"
    },
    {
     "data": {
      "application/vnd.jupyter.widget-view+json": {
       "model_id": "a7dd01d0a9064725b93c2f5f1fe9e8b3",
       "version_major": 2,
       "version_minor": 0
      },
      "text/plain": [
       "  0%|                                                                                                         …"
      ]
     },
     "metadata": {},
     "output_type": "display_data"
    },
    {
     "data": {
      "application/vnd.jupyter.widget-view+json": {
       "model_id": "0a0f31ec6a244a63a68b8ed6c3c33bca",
       "version_major": 2,
       "version_minor": 0
      },
      "text/plain": [
       "  0%|                                                                                                         …"
      ]
     },
     "metadata": {},
     "output_type": "display_data"
    },
    {
     "data": {
      "application/vnd.jupyter.widget-view+json": {
       "model_id": "074377e61e2e4459842c3bcde244ab15",
       "version_major": 2,
       "version_minor": 0
      },
      "text/plain": [
       "  0%|                                                                                                         …"
      ]
     },
     "metadata": {},
     "output_type": "display_data"
    },
    {
     "data": {
      "application/vnd.jupyter.widget-view+json": {
       "model_id": "4296702baee444399a6a348ed6fea62f",
       "version_major": 2,
       "version_minor": 0
      },
      "text/plain": [
       "  0%|                                                                                                         …"
      ]
     },
     "metadata": {},
     "output_type": "display_data"
    },
    {
     "data": {
      "application/vnd.jupyter.widget-view+json": {
       "model_id": "927a8cf2536d4238a78209be56b847a3",
       "version_major": 2,
       "version_minor": 0
      },
      "text/plain": [
       "  0%|                                                                                                         …"
      ]
     },
     "metadata": {},
     "output_type": "display_data"
    },
    {
     "data": {
      "application/vnd.jupyter.widget-view+json": {
       "model_id": "aa1566b1c7d44433a9cd9b16a6d2d638",
       "version_major": 2,
       "version_minor": 0
      },
      "text/plain": [
       "  0%|                                                                                                         …"
      ]
     },
     "metadata": {},
     "output_type": "display_data"
    },
    {
     "data": {
      "application/vnd.jupyter.widget-view+json": {
       "model_id": "21dd279647444e239f86a854ea9ae1d8",
       "version_major": 2,
       "version_minor": 0
      },
      "text/plain": [
       "  0%|                                                                                                         …"
      ]
     },
     "metadata": {},
     "output_type": "display_data"
    },
    {
     "data": {
      "application/vnd.jupyter.widget-view+json": {
       "model_id": "713a277c37424877a2c9c11a20be74c6",
       "version_major": 2,
       "version_minor": 0
      },
      "text/plain": [
       "  0%|                                                                                                         …"
      ]
     },
     "metadata": {},
     "output_type": "display_data"
    },
    {
     "data": {
      "application/vnd.jupyter.widget-view+json": {
       "model_id": "5b8a9367f9b448a59ec96a8838603273",
       "version_major": 2,
       "version_minor": 0
      },
      "text/plain": [
       "  0%|                                                                                                         …"
      ]
     },
     "metadata": {},
     "output_type": "display_data"
    },
    {
     "data": {
      "application/vnd.jupyter.widget-view+json": {
       "model_id": "7bfcb90ae78b41d68c1789303746ce0f",
       "version_major": 2,
       "version_minor": 0
      },
      "text/plain": [
       "  0%|                                                                                                         …"
      ]
     },
     "metadata": {},
     "output_type": "display_data"
    },
    {
     "data": {
      "application/vnd.jupyter.widget-view+json": {
       "model_id": "9457cc1a0d1847118c7f2ec9ab6a2333",
       "version_major": 2,
       "version_minor": 0
      },
      "text/plain": [
       "  0%|                                                                                                         …"
      ]
     },
     "metadata": {},
     "output_type": "display_data"
    },
    {
     "data": {
      "application/vnd.jupyter.widget-view+json": {
       "model_id": "b9c9e0e31dac4c5c887538c6d4e37ef9",
       "version_major": 2,
       "version_minor": 0
      },
      "text/plain": [
       "  0%|                                                                                                         …"
      ]
     },
     "metadata": {},
     "output_type": "display_data"
    },
    {
     "data": {
      "application/vnd.jupyter.widget-view+json": {
       "model_id": "140224fa7ee54976bbe292b4562af386",
       "version_major": 2,
       "version_minor": 0
      },
      "text/plain": [
       "  0%|                                                                                                         …"
      ]
     },
     "metadata": {},
     "output_type": "display_data"
    },
    {
     "data": {
      "application/vnd.jupyter.widget-view+json": {
       "model_id": "ed28b43bbb8843a1b018e951ec1733e3",
       "version_major": 2,
       "version_minor": 0
      },
      "text/plain": [
       "  0%|                                                                                                         …"
      ]
     },
     "metadata": {},
     "output_type": "display_data"
    },
    {
     "data": {
      "application/vnd.jupyter.widget-view+json": {
       "model_id": "8eb1479c135c4d61bc4537fd1a65b037",
       "version_major": 2,
       "version_minor": 0
      },
      "text/plain": [
       "  0%|                                                                                                         …"
      ]
     },
     "metadata": {},
     "output_type": "display_data"
    },
    {
     "data": {
      "application/vnd.jupyter.widget-view+json": {
       "model_id": "a186dfd51eae48d8980bdccdb6cd8ad4",
       "version_major": 2,
       "version_minor": 0
      },
      "text/plain": [
       "  0%|                                                                                                         …"
      ]
     },
     "metadata": {},
     "output_type": "display_data"
    },
    {
     "data": {
      "application/vnd.jupyter.widget-view+json": {
       "model_id": "9049321d8bb848c68ab38f92ca3dfd06",
       "version_major": 2,
       "version_minor": 0
      },
      "text/plain": [
       "  0%|                                                                                                         …"
      ]
     },
     "metadata": {},
     "output_type": "display_data"
    },
    {
     "data": {
      "application/vnd.jupyter.widget-view+json": {
       "model_id": "5e15cf8fcf28465b9bae4fd6afceca2e",
       "version_major": 2,
       "version_minor": 0
      },
      "text/plain": [
       "  0%|                                                                                                         …"
      ]
     },
     "metadata": {},
     "output_type": "display_data"
    },
    {
     "data": {
      "application/vnd.jupyter.widget-view+json": {
       "model_id": "a986af29c05941fb86c9ccc093135478",
       "version_major": 2,
       "version_minor": 0
      },
      "text/plain": [
       "  0%|                                                                                                         …"
      ]
     },
     "metadata": {},
     "output_type": "display_data"
    },
    {
     "data": {
      "application/vnd.jupyter.widget-view+json": {
       "model_id": "7a334f08776f4ec0878146e99135a18a",
       "version_major": 2,
       "version_minor": 0
      },
      "text/plain": [
       "  0%|                                                                                                         …"
      ]
     },
     "metadata": {},
     "output_type": "display_data"
    },
    {
     "data": {
      "application/vnd.jupyter.widget-view+json": {
       "model_id": "2eb65ac3b6bf4648a5ffca375d91efb1",
       "version_major": 2,
       "version_minor": 0
      },
      "text/plain": [
       "  0%|                                                                                                         …"
      ]
     },
     "metadata": {},
     "output_type": "display_data"
    },
    {
     "data": {
      "application/vnd.jupyter.widget-view+json": {
       "model_id": "6bafbb24f6b44a00ade4d57a82fc567c",
       "version_major": 2,
       "version_minor": 0
      },
      "text/plain": [
       "  0%|                                                                                                         …"
      ]
     },
     "metadata": {},
     "output_type": "display_data"
    },
    {
     "data": {
      "application/vnd.jupyter.widget-view+json": {
       "model_id": "50604cabbd7c46b7b8d43953d01344c6",
       "version_major": 2,
       "version_minor": 0
      },
      "text/plain": [
       "  0%|                                                                                                         …"
      ]
     },
     "metadata": {},
     "output_type": "display_data"
    },
    {
     "data": {
      "application/vnd.jupyter.widget-view+json": {
       "model_id": "a0827d6773044cb8bc8225447eb21c3c",
       "version_major": 2,
       "version_minor": 0
      },
      "text/plain": [
       "  0%|                                                                                                         …"
      ]
     },
     "metadata": {},
     "output_type": "display_data"
    },
    {
     "data": {
      "application/vnd.jupyter.widget-view+json": {
       "model_id": "e83f3b8ff9304d3696d8c9629669bccc",
       "version_major": 2,
       "version_minor": 0
      },
      "text/plain": [
       "  0%|                                                                                                         …"
      ]
     },
     "metadata": {},
     "output_type": "display_data"
    },
    {
     "data": {
      "application/vnd.jupyter.widget-view+json": {
       "model_id": "c4f681860d6742d98d886b437f549b29",
       "version_major": 2,
       "version_minor": 0
      },
      "text/plain": [
       "  0%|                                                                                                         …"
      ]
     },
     "metadata": {},
     "output_type": "display_data"
    },
    {
     "data": {
      "application/vnd.jupyter.widget-view+json": {
       "model_id": "6e10c7bb92bf482da6d98e1341406991",
       "version_major": 2,
       "version_minor": 0
      },
      "text/plain": [
       "  0%|                                                                                                         …"
      ]
     },
     "metadata": {},
     "output_type": "display_data"
    },
    {
     "data": {
      "application/vnd.jupyter.widget-view+json": {
       "model_id": "8767352e859741beabbe422b91fa411d",
       "version_major": 2,
       "version_minor": 0
      },
      "text/plain": [
       "  0%|                                                                                                         …"
      ]
     },
     "metadata": {},
     "output_type": "display_data"
    },
    {
     "data": {
      "application/vnd.jupyter.widget-view+json": {
       "model_id": "a908ba768e134dc2a90f0638cbfe7f0e",
       "version_major": 2,
       "version_minor": 0
      },
      "text/plain": [
       "  0%|                                                                                                         …"
      ]
     },
     "metadata": {},
     "output_type": "display_data"
    },
    {
     "data": {
      "application/vnd.jupyter.widget-view+json": {
       "model_id": "ed38b97c9da94087b66edf33231c2282",
       "version_major": 2,
       "version_minor": 0
      },
      "text/plain": [
       "  0%|                                                                                                         …"
      ]
     },
     "metadata": {},
     "output_type": "display_data"
    },
    {
     "data": {
      "application/vnd.jupyter.widget-view+json": {
       "model_id": "92bf77cb90534f39a8cfe271c46580df",
       "version_major": 2,
       "version_minor": 0
      },
      "text/plain": [
       "  0%|                                                                                                         …"
      ]
     },
     "metadata": {},
     "output_type": "display_data"
    },
    {
     "data": {
      "application/vnd.jupyter.widget-view+json": {
       "model_id": "05bff746587f4c1f8687c5c5f98cc0e1",
       "version_major": 2,
       "version_minor": 0
      },
      "text/plain": [
       "  0%|                                                                                                         …"
      ]
     },
     "metadata": {},
     "output_type": "display_data"
    },
    {
     "data": {
      "application/vnd.jupyter.widget-view+json": {
       "model_id": "7a029f564ffc445fa0e088beb6322464",
       "version_major": 2,
       "version_minor": 0
      },
      "text/plain": [
       "  0%|                                                                                                         …"
      ]
     },
     "metadata": {},
     "output_type": "display_data"
    },
    {
     "data": {
      "application/vnd.jupyter.widget-view+json": {
       "model_id": "d311a36792c04f88a4829a3ae83056e6",
       "version_major": 2,
       "version_minor": 0
      },
      "text/plain": [
       "  0%|                                                                                                         …"
      ]
     },
     "metadata": {},
     "output_type": "display_data"
    },
    {
     "data": {
      "application/vnd.jupyter.widget-view+json": {
       "model_id": "2904edec8cf24ff4b6a906ef655b3d82",
       "version_major": 2,
       "version_minor": 0
      },
      "text/plain": [
       "  0%|                                                                                                         …"
      ]
     },
     "metadata": {},
     "output_type": "display_data"
    },
    {
     "data": {
      "application/vnd.jupyter.widget-view+json": {
       "model_id": "e619e3d5f72e456c85cdfabcde380c6c",
       "version_major": 2,
       "version_minor": 0
      },
      "text/plain": [
       "  0%|                                                                                                         …"
      ]
     },
     "metadata": {},
     "output_type": "display_data"
    },
    {
     "data": {
      "application/vnd.jupyter.widget-view+json": {
       "model_id": "cd57605e658d4fb28abc804c31b23c93",
       "version_major": 2,
       "version_minor": 0
      },
      "text/plain": [
       "  0%|                                                                                                         …"
      ]
     },
     "metadata": {},
     "output_type": "display_data"
    },
    {
     "data": {
      "application/vnd.jupyter.widget-view+json": {
       "model_id": "abc8b7626b62465ea952f17a9d217be2",
       "version_major": 2,
       "version_minor": 0
      },
      "text/plain": [
       "  0%|                                                                                                         …"
      ]
     },
     "metadata": {},
     "output_type": "display_data"
    },
    {
     "data": {
      "application/vnd.jupyter.widget-view+json": {
       "model_id": "8dd83321e7b24399a7e6251f02ec1fa8",
       "version_major": 2,
       "version_minor": 0
      },
      "text/plain": [
       "  0%|                                                                                                         …"
      ]
     },
     "metadata": {},
     "output_type": "display_data"
    },
    {
     "data": {
      "application/vnd.jupyter.widget-view+json": {
       "model_id": "923c03d5392444f0916b098a9f8da14f",
       "version_major": 2,
       "version_minor": 0
      },
      "text/plain": [
       "  0%|                                                                                                         …"
      ]
     },
     "metadata": {},
     "output_type": "display_data"
    },
    {
     "data": {
      "application/vnd.jupyter.widget-view+json": {
       "model_id": "3acf30205c1e4b978c50e6c67564cf2d",
       "version_major": 2,
       "version_minor": 0
      },
      "text/plain": [
       "  0%|                                                                                                         …"
      ]
     },
     "metadata": {},
     "output_type": "display_data"
    },
    {
     "data": {
      "application/vnd.jupyter.widget-view+json": {
       "model_id": "676061fcca784fb8a6c0ff3b66903b06",
       "version_major": 2,
       "version_minor": 0
      },
      "text/plain": [
       "  0%|                                                                                                         …"
      ]
     },
     "metadata": {},
     "output_type": "display_data"
    },
    {
     "data": {
      "application/vnd.jupyter.widget-view+json": {
       "model_id": "37e21a1160be4a0a88815241a11430f9",
       "version_major": 2,
       "version_minor": 0
      },
      "text/plain": [
       "  0%|                                                                                                         …"
      ]
     },
     "metadata": {},
     "output_type": "display_data"
    },
    {
     "data": {
      "application/vnd.jupyter.widget-view+json": {
       "model_id": "74df7898a3494f21a4f6b6d87bf4510e",
       "version_major": 2,
       "version_minor": 0
      },
      "text/plain": [
       "  0%|                                                                                                         …"
      ]
     },
     "metadata": {},
     "output_type": "display_data"
    },
    {
     "data": {
      "application/vnd.jupyter.widget-view+json": {
       "model_id": "ae89017b0a5e4eb98b62a0e2d9583e82",
       "version_major": 2,
       "version_minor": 0
      },
      "text/plain": [
       "  0%|                                                                                                         …"
      ]
     },
     "metadata": {},
     "output_type": "display_data"
    },
    {
     "data": {
      "application/vnd.jupyter.widget-view+json": {
       "model_id": "613205e0b24148e7afce1efabf89d142",
       "version_major": 2,
       "version_minor": 0
      },
      "text/plain": [
       "  0%|                                                                                                         …"
      ]
     },
     "metadata": {},
     "output_type": "display_data"
    },
    {
     "data": {
      "application/vnd.jupyter.widget-view+json": {
       "model_id": "18e15c9d9d1349bf8e7242d63d1ec265",
       "version_major": 2,
       "version_minor": 0
      },
      "text/plain": [
       "  0%|                                                                                                         …"
      ]
     },
     "metadata": {},
     "output_type": "display_data"
    },
    {
     "data": {
      "application/vnd.jupyter.widget-view+json": {
       "model_id": "d0eaadfd2d964b0a8dbf093b5a74db95",
       "version_major": 2,
       "version_minor": 0
      },
      "text/plain": [
       "  0%|                                                                                                         …"
      ]
     },
     "metadata": {},
     "output_type": "display_data"
    },
    {
     "data": {
      "application/vnd.jupyter.widget-view+json": {
       "model_id": "bec6e376ff094137b8fb3fa2b264d973",
       "version_major": 2,
       "version_minor": 0
      },
      "text/plain": [
       "  0%|                                                                                                         …"
      ]
     },
     "metadata": {},
     "output_type": "display_data"
    },
    {
     "data": {
      "application/vnd.jupyter.widget-view+json": {
       "model_id": "402c78b90f8a4d7d9bf1b9d6c244e395",
       "version_major": 2,
       "version_minor": 0
      },
      "text/plain": [
       "  0%|                                                                                                         …"
      ]
     },
     "metadata": {},
     "output_type": "display_data"
    },
    {
     "data": {
      "application/vnd.jupyter.widget-view+json": {
       "model_id": "73286b4811334658a00e7f1620a81754",
       "version_major": 2,
       "version_minor": 0
      },
      "text/plain": [
       "  0%|                                                                                                         …"
      ]
     },
     "metadata": {},
     "output_type": "display_data"
    },
    {
     "data": {
      "application/vnd.jupyter.widget-view+json": {
       "model_id": "c2a3ddc2463345c7aa71c4fb893f4dbb",
       "version_major": 2,
       "version_minor": 0
      },
      "text/plain": [
       "  0%|                                                                                                         …"
      ]
     },
     "metadata": {},
     "output_type": "display_data"
    },
    {
     "data": {
      "application/vnd.jupyter.widget-view+json": {
       "model_id": "1745c87b49ad40898a065883e21f40c9",
       "version_major": 2,
       "version_minor": 0
      },
      "text/plain": [
       "  0%|                                                                                                         …"
      ]
     },
     "metadata": {},
     "output_type": "display_data"
    },
    {
     "data": {
      "application/vnd.jupyter.widget-view+json": {
       "model_id": "9ee1c992c22b458992f7108581df7cc6",
       "version_major": 2,
       "version_minor": 0
      },
      "text/plain": [
       "  0%|                                                                                                         …"
      ]
     },
     "metadata": {},
     "output_type": "display_data"
    },
    {
     "data": {
      "application/vnd.jupyter.widget-view+json": {
       "model_id": "71a1bdd842c749e1b0ac6a0ee4f74c6c",
       "version_major": 2,
       "version_minor": 0
      },
      "text/plain": [
       "  0%|                                                                                                         …"
      ]
     },
     "metadata": {},
     "output_type": "display_data"
    },
    {
     "data": {
      "application/vnd.jupyter.widget-view+json": {
       "model_id": "dbfd0d2f28904cce9394e57492724dd7",
       "version_major": 2,
       "version_minor": 0
      },
      "text/plain": [
       "  0%|                                                                                                         …"
      ]
     },
     "metadata": {},
     "output_type": "display_data"
    },
    {
     "data": {
      "application/vnd.jupyter.widget-view+json": {
       "model_id": "542a23123fae457b87815a2afa949fd3",
       "version_major": 2,
       "version_minor": 0
      },
      "text/plain": [
       "  0%|                                                                                                         …"
      ]
     },
     "metadata": {},
     "output_type": "display_data"
    },
    {
     "data": {
      "application/vnd.jupyter.widget-view+json": {
       "model_id": "a2ecda383b8741d1bbf738efc71fc235",
       "version_major": 2,
       "version_minor": 0
      },
      "text/plain": [
       "  0%|                                                                                                         …"
      ]
     },
     "metadata": {},
     "output_type": "display_data"
    },
    {
     "data": {
      "application/vnd.jupyter.widget-view+json": {
       "model_id": "7616f90e397a45048912c3ae065e7cda",
       "version_major": 2,
       "version_minor": 0
      },
      "text/plain": [
       "  0%|                                                                                                         …"
      ]
     },
     "metadata": {},
     "output_type": "display_data"
    },
    {
     "data": {
      "application/vnd.jupyter.widget-view+json": {
       "model_id": "fe4e4d9089d54f64b898b8dabaaff8c9",
       "version_major": 2,
       "version_minor": 0
      },
      "text/plain": [
       "  0%|                                                                                                         …"
      ]
     },
     "metadata": {},
     "output_type": "display_data"
    },
    {
     "data": {
      "application/vnd.jupyter.widget-view+json": {
       "model_id": "7223f737c59844d681596bf7cf99dbf5",
       "version_major": 2,
       "version_minor": 0
      },
      "text/plain": [
       "  0%|                                                                                                         …"
      ]
     },
     "metadata": {},
     "output_type": "display_data"
    },
    {
     "data": {
      "application/vnd.jupyter.widget-view+json": {
       "model_id": "b32229211cd94fddb448f641d7878be9",
       "version_major": 2,
       "version_minor": 0
      },
      "text/plain": [
       "  0%|                                                                                                         …"
      ]
     },
     "metadata": {},
     "output_type": "display_data"
    },
    {
     "data": {
      "application/vnd.jupyter.widget-view+json": {
       "model_id": "af031b2191d543f3811734e161362672",
       "version_major": 2,
       "version_minor": 0
      },
      "text/plain": [
       "  0%|                                                                                                         …"
      ]
     },
     "metadata": {},
     "output_type": "display_data"
    },
    {
     "data": {
      "application/vnd.jupyter.widget-view+json": {
       "model_id": "775380e6c45244a0ae468f6fbf4829e9",
       "version_major": 2,
       "version_minor": 0
      },
      "text/plain": [
       "  0%|                                                                                                         …"
      ]
     },
     "metadata": {},
     "output_type": "display_data"
    }
   ],
   "source": [
    "class CNN(nn.Module):\n",
    "  def __init__(self, num_classes=10):\n",
    "    super(CNN, self).__init__()\n",
    "    self.conv1 = nn.Conv2d(3, 16, kernel_size=3, padding=1)\n",
    "    self.conv2 = nn.Conv2d(16, 32, kernel_size=3, padding=1)\n",
    "    self.conv3 = nn.Conv2d(32, 64, kernel_size=3, padding=1)\n",
    "    self.fc1 = nn.Linear(64*4*4, 256)\n",
    "    self.fc2 = nn.Linear(256, num_classes)\n",
    "    self.pool = nn.MaxPool2d(2,2)\n",
    "\n",
    "  def forward(self, x):\n",
    "    x = self.pool(F.relu(self.conv1(x)))\n",
    "    x = self.pool(F.relu(self.conv2(x)))\n",
    "    x = self.pool(F.relu(self.conv3(x)))\n",
    "    x = torch.flatten(x, 1)\n",
    "    x = F.relu(self.fc1(x))\n",
    "    x = self.fc2(x)\n",
    "    return(x)\n",
    "\n",
    "\n",
    "plt.imshow(adv_trainset[0][0].permute(1,2,0))\n",
    "plt.title('Training image')\n",
    "plt.show()\n",
    "\n",
    "transform = transforms.Compose([\n",
    "  transforms.ToTensor()\n",
    "])\n",
    "\n",
    "device = torch.accelerator.current_accelerator().type if torch.accelerator.is_available() else \"cpu\"\n",
    "print(f\"Using {device} device\")\n",
    "adv_model = CNN(num_classes=10).to(device)\n",
    "optimizer = optim.SGD(adv_model.parameters(), lr=0.01, momentum=0.9)\n",
    "\n",
    "loss_fn = nn.CrossEntropyLoss()\n",
    "epochs = 40\n",
    "\n",
    "for epoch in range(epochs):  # loop over the dataset multiple times\n",
    "\n",
    "  total_correct_train, total_samples, total_loss, total_batches = 0, 0, 0, 0\n",
    "  if (epoch == epochs/2):\n",
    "    optimizer.param_groups[0]['lr'] *= 0.1\n",
    "\n",
    "  for X, Y in (pbar := tqdm(adv_trainloader, ncols=1000)):\n",
    "    X, Y = X.to(device), Y.to(device)\n",
    "\n",
    "    optimizer.zero_grad()\n",
    "    pred = adv_model(X)\n",
    "    loss = loss_fn(pred, Y)\n",
    "\n",
    "    total_loss += loss.item()\n",
    "    total_batches += 1\n",
    "    total_correct_train += (pred.argmax(dim=1) == Y).sum()\n",
    "    total_samples += X.shape[0]\n",
    "\n",
    "    average_loss = total_loss/total_batches\n",
    "    train_acc = total_correct_train*100/total_samples\n",
    "\n",
    "    pbar.set_description(f\"{epoch+1}/{epochs}   {average_loss=:.04e}  {train_acc=:.02f}%\")\n",
    "\n",
    "    loss.backward()\n",
    "    optimizer.step()\n",
    "\n",
    "  total_correct, total_samples, test_acc = 0, 0, 0\n",
    "\n",
    "  for X, Y in (pbar := tqdm(adv_testloader, ncols=1000)):\n",
    "    X, Y = X.to(device), Y.to(device)\n",
    "    total_samples += X.shape[0]\n",
    "\n",
    "    with torch.no_grad(): pred = adv_model(X)\n",
    "    total_correct += (pred.argmax(dim=1) == Y).sum()\n",
    "\n",
    "    test_acc = total_correct*100/total_samples\n",
    "\n",
    "    pbar.set_description(f\"{epoch+1}/{epochs}   {test_acc=:.02f}%\")\n",
    "\n",
    "\n"
   ]
  },
  {
   "cell_type": "code",
   "execution_count": null,
   "metadata": {},
   "outputs": [],
   "source": []
  }
 ],
 "metadata": {
  "accelerator": "GPU",
  "colab": {
   "gpuType": "T4",
   "provenance": []
  },
  "kernelspec": {
   "display_name": "Python 3 (ipykernel)",
   "language": "python",
   "name": "python3"
  },
  "language_info": {
   "codemirror_mode": {
    "name": "ipython",
    "version": 3
   },
   "file_extension": ".py",
   "mimetype": "text/x-python",
   "name": "python",
   "nbconvert_exporter": "python",
   "pygments_lexer": "ipython3",
   "version": "3.13.2"
  }
 },
 "nbformat": 4,
 "nbformat_minor": 4
}
